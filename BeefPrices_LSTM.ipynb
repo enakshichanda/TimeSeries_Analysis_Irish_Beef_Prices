{
 "cells": [
  {
   "cell_type": "code",
   "execution_count": 92,
   "metadata": {},
   "outputs": [
    {
     "name": "stdout",
     "output_type": "stream",
     "text": [
      "Populating the interactive namespace from numpy and matplotlib\n"
     ]
    }
   ],
   "source": [
    "%pylab inline\n",
    "import pandas as pd\n",
    "import seaborn\n",
    "import plotly.graph_objects as go\n",
    "from datetime import datetime as dt\n",
    "from sklearn.linear_model import LinearRegression    \n",
    "import numpy as np   \n",
    "import matplotlib.pyplot as plt  \n",
    "from matplotlib import style\n",
    "from sklearn.svm import SVR\n",
    "from sklearn.model_selection import train_test_split\n",
    "import matplotlib.dates as mdates\n",
    "style.use('ggplot')\n",
    "import math\n",
    "##import tensorflow\n",
    "from pandas.plotting import register_matplotlib_converters\n",
    "from sklearn import preprocessing\n",
    "from sklearn.preprocessing import MinMaxScaler\n",
    "from keras.models import Sequential\n",
    "from keras.layers import Dense,LSTM\n",
    "import random as rd\n"
   ]
  },
  {
   "cell_type": "code",
   "execution_count": 173,
   "metadata": {},
   "outputs": [
    {
     "data": {
      "text/html": [
       "<div>\n",
       "<style scoped>\n",
       "    .dataframe tbody tr th:only-of-type {\n",
       "        vertical-align: middle;\n",
       "    }\n",
       "\n",
       "    .dataframe tbody tr th {\n",
       "        vertical-align: top;\n",
       "    }\n",
       "\n",
       "    .dataframe thead th {\n",
       "        text-align: right;\n",
       "    }\n",
       "</style>\n",
       "<table border=\"1\" class=\"dataframe\">\n",
       "  <thead>\n",
       "    <tr style=\"text-align: right;\">\n",
       "      <th></th>\n",
       "      <th>Year</th>\n",
       "      <th>Consumption</th>\n",
       "      <th>Production</th>\n",
       "      <th>Export</th>\n",
       "      <th>Population</th>\n",
       "      <th>Fuel_Price</th>\n",
       "      <th>Cattle Slaughtered</th>\n",
       "      <th>Beef_Price</th>\n",
       "    </tr>\n",
       "  </thead>\n",
       "  <tbody>\n",
       "    <tr>\n",
       "      <td>0</td>\n",
       "      <td>1961</td>\n",
       "      <td>45340550.43</td>\n",
       "      <td>144539000</td>\n",
       "      <td>74700000</td>\n",
       "      <td>2828481</td>\n",
       "      <td>1.8</td>\n",
       "      <td>640100</td>\n",
       "      <td>40.35</td>\n",
       "    </tr>\n",
       "    <tr>\n",
       "      <td>1</td>\n",
       "      <td>1962</td>\n",
       "      <td>47745205.84</td>\n",
       "      <td>125689000</td>\n",
       "      <td>59800000</td>\n",
       "      <td>2835226</td>\n",
       "      <td>1.8</td>\n",
       "      <td>585600</td>\n",
       "      <td>41.56</td>\n",
       "    </tr>\n",
       "    <tr>\n",
       "      <td>2</td>\n",
       "      <td>1963</td>\n",
       "      <td>50934601.11</td>\n",
       "      <td>129513000</td>\n",
       "      <td>61700000</td>\n",
       "      <td>2847099</td>\n",
       "      <td>1.8</td>\n",
       "      <td>598900</td>\n",
       "      <td>42.80</td>\n",
       "    </tr>\n",
       "    <tr>\n",
       "      <td>3</td>\n",
       "      <td>1964</td>\n",
       "      <td>50009860.48</td>\n",
       "      <td>112798000</td>\n",
       "      <td>52700000</td>\n",
       "      <td>2860976</td>\n",
       "      <td>1.8</td>\n",
       "      <td>488500</td>\n",
       "      <td>44.09</td>\n",
       "    </tr>\n",
       "    <tr>\n",
       "      <td>4</td>\n",
       "      <td>1965</td>\n",
       "      <td>49876235.85</td>\n",
       "      <td>112943000</td>\n",
       "      <td>55000000</td>\n",
       "      <td>2874711</td>\n",
       "      <td>1.8</td>\n",
       "      <td>490700</td>\n",
       "      <td>45.41</td>\n",
       "    </tr>\n",
       "  </tbody>\n",
       "</table>\n",
       "</div>"
      ],
      "text/plain": [
       "   Year  Consumption  Production    Export  Population  Fuel_Price  \\\n",
       "0  1961  45340550.43   144539000  74700000     2828481         1.8   \n",
       "1  1962  47745205.84   125689000  59800000     2835226         1.8   \n",
       "2  1963  50934601.11   129513000  61700000     2847099         1.8   \n",
       "3  1964  50009860.48   112798000  52700000     2860976         1.8   \n",
       "4  1965  49876235.85   112943000  55000000     2874711         1.8   \n",
       "\n",
       "   Cattle Slaughtered  Beef_Price  \n",
       "0              640100       40.35  \n",
       "1              585600       41.56  \n",
       "2              598900       42.80  \n",
       "3              488500       44.09  \n",
       "4              490700       45.41  "
      ]
     },
     "execution_count": 173,
     "metadata": {},
     "output_type": "execute_result"
    }
   ],
   "source": [
    "df = pd.read_csv('annual_beef_data.csv')\n",
    "df.head()\n"
   ]
  },
  {
   "cell_type": "code",
   "execution_count": 174,
   "metadata": {},
   "outputs": [
    {
     "data": {
      "text/plain": [
       "(58, 8)"
      ]
     },
     "execution_count": 174,
     "metadata": {},
     "output_type": "execute_result"
    }
   ],
   "source": [
    "df.shape"
   ]
  },
  {
   "cell_type": "code",
   "execution_count": 175,
   "metadata": {},
   "outputs": [
    {
     "data": {
      "text/plain": [
       "<function matplotlib.pyplot.show(*args, **kw)>"
      ]
     },
     "execution_count": 175,
     "metadata": {},
     "output_type": "execute_result"
    },
    {
     "data": {
      "image/png": "[encoded data removed]",
      "text/plain": [
       "<Figure size 432x288 with 1 Axes>"
      ]
     },
     "metadata": {},
     "output_type": "display_data"
    }
   ],
   "source": [
    "plt.plot(df['Beef_Price'])\n",
    "plt.title('Beef_Price')\n",
    "plt.xlabel('Time')\n",
    "plt.ylabel('Price')\n",
    "plt.show"
   ]
  },
  {
   "cell_type": "code",
   "execution_count": 214,
   "metadata": {},
   "outputs": [
    {
     "data": {
      "text/plain": [
       "array([[  1.8 ],\n",
       "       [  1.8 ],\n",
       "       [  1.8 ],\n",
       "       [  1.8 ],\n",
       "       [  1.8 ],\n",
       "       [  1.8 ],\n",
       "       [  1.8 ],\n",
       "       [  1.8 ],\n",
       "       [  1.8 ],\n",
       "       [  1.8 ],\n",
       "       [  2.24],\n",
       "       [  2.48],\n",
       "       [  3.29],\n",
       "       [ 11.58],\n",
       "       [ 11.53],\n",
       "       [ 12.8 ],\n",
       "       [ 13.92],\n",
       "       [ 14.02],\n",
       "       [ 31.61],\n",
       "       [ 36.83],\n",
       "       [ 35.93],\n",
       "       [ 32.97],\n",
       "       [ 29.55],\n",
       "       [ 28.78],\n",
       "       [ 27.56],\n",
       "       [ 14.43],\n",
       "       [ 18.44],\n",
       "       [ 14.92],\n",
       "       [ 18.23],\n",
       "       [ 23.73],\n",
       "       [ 20.  ],\n",
       "       [ 19.32],\n",
       "       [ 16.97],\n",
       "       [ 15.82],\n",
       "       [ 17.02],\n",
       "       [ 20.67],\n",
       "       [ 19.09],\n",
       "       [ 12.72],\n",
       "       [ 17.97],\n",
       "       [ 28.5 ],\n",
       "       [ 24.44],\n",
       "       [ 25.02],\n",
       "       [ 28.83],\n",
       "       [ 38.27],\n",
       "       [ 54.52],\n",
       "       [ 65.14],\n",
       "       [ 72.39],\n",
       "       [ 97.26],\n",
       "       [ 61.67],\n",
       "       [ 79.5 ],\n",
       "       [111.26],\n",
       "       [111.67],\n",
       "       [108.66],\n",
       "       [ 98.95],\n",
       "       [ 54.4 ],\n",
       "       [ 46.  ],\n",
       "       [ 55.71],\n",
       "       [ 71.64]])"
      ]
     },
     "execution_count": 214,
     "metadata": {},
     "output_type": "execute_result"
    }
   ],
   "source": [
    "df_Beef_Price = df.filter(['Fuel_Price'])\n",
    "dataset = df_Beef_Price.values #this converts in array\n",
    "dataset"
   ]
  },
  {
   "cell_type": "code",
   "execution_count": 215,
   "metadata": {},
   "outputs": [
    {
     "data": {
      "text/plain": [
       "47"
      ]
     },
     "execution_count": 215,
     "metadata": {},
     "output_type": "execute_result"
    }
   ],
   "source": [
    "training_data_len = math.ceil(len(dataset)*.80)\n",
    "training_data_len"
   ]
  },
  {
   "cell_type": "code",
   "execution_count": 216,
   "metadata": {},
   "outputs": [
    {
     "data": {
      "image/png": "[encoded data removed]",
      "text/plain": [
       "<Figure size 432x288 with 1 Axes>"
      ]
     },
     "metadata": {},
     "output_type": "display_data"
    }
   ],
   "source": [
    "processed_data = preprocessing.scale(dataset)\n",
    "plt.plot(processed_data)\n",
    "plt.show()"
   ]
  },
  {
   "cell_type": "code",
   "execution_count": 217,
   "metadata": {},
   "outputs": [
    {
     "data": {
      "text/plain": [
       "array([[0.        ],\n",
       "       [0.        ],\n",
       "       [0.        ],\n",
       "       [0.        ],\n",
       "       [0.        ],\n",
       "       [0.        ],\n",
       "       [0.        ],\n",
       "       [0.        ],\n",
       "       [0.        ],\n",
       "       [0.        ],\n",
       "       [0.00400473],\n",
       "       [0.00618913],\n",
       "       [0.01356148],\n",
       "       [0.08901429],\n",
       "       [0.08855921],\n",
       "       [0.10011832],\n",
       "       [0.11031219],\n",
       "       [0.11122235],\n",
       "       [0.27132065],\n",
       "       [0.31883135],\n",
       "       [0.31063985],\n",
       "       [0.28369892],\n",
       "       [0.25257122],\n",
       "       [0.24556294],\n",
       "       [0.23445891],\n",
       "       [0.11495404],\n",
       "       [0.15145172],\n",
       "       [0.11941385],\n",
       "       [0.14954037],\n",
       "       [0.19959953],\n",
       "       [0.16565031],\n",
       "       [0.15946118],\n",
       "       [0.13807227],\n",
       "       [0.12760535],\n",
       "       [0.13852735],\n",
       "       [0.17174843],\n",
       "       [0.1573678 ],\n",
       "       [0.09939019],\n",
       "       [0.14717393],\n",
       "       [0.24301447],\n",
       "       [0.20606171],\n",
       "       [0.21134068],\n",
       "       [0.24601802],\n",
       "       [0.33193774],\n",
       "       [0.47983981],\n",
       "       [0.5764995 ],\n",
       "       [0.64248658],\n",
       "       [0.868845  ],\n",
       "       [0.54491672],\n",
       "       [0.70719942],\n",
       "       [0.99626832],\n",
       "       [1.        ],\n",
       "       [0.97260399],\n",
       "       [0.88422681],\n",
       "       [0.47874761],\n",
       "       [0.40229362],\n",
       "       [0.49067079],\n",
       "       [0.63566033]])"
      ]
     },
     "execution_count": 217,
     "metadata": {},
     "output_type": "execute_result"
    }
   ],
   "source": [
    "scaler = MinMaxScaler(feature_range=(0,1))\n",
    "scaled_data = scaler.fit_transform(dataset)\n",
    "scaled_data"
   ]
  },
  {
   "cell_type": "code",
   "execution_count": 218,
   "metadata": {},
   "outputs": [
    {
     "data": {
      "text/plain": [
       "array([[-0.96393268],\n",
       "       [-0.96393268],\n",
       "       [-0.96393268],\n",
       "       [-0.96393268],\n",
       "       [-0.96393268],\n",
       "       [-0.96393268],\n",
       "       [-0.96393268],\n",
       "       [-0.96393268],\n",
       "       [-0.96393268],\n",
       "       [-0.96393268],\n",
       "       [-0.94939264],\n",
       "       [-0.94146171],\n",
       "       [-0.91469483],\n",
       "       [-0.64074731],\n",
       "       [-0.64239958],\n",
       "       [-0.60043175],\n",
       "       [-0.56342075],\n",
       "       [-0.56011619],\n",
       "       [ 0.02115484],\n",
       "       [ 0.19365256],\n",
       "       [ 0.16391157],\n",
       "       [ 0.06609678],\n",
       "       [-0.04691897],\n",
       "       [-0.07236403],\n",
       "       [-0.11267959],\n",
       "       [-0.54656752],\n",
       "       [-0.41405491],\n",
       "       [-0.53037521],\n",
       "       [-0.42099447],\n",
       "       [-0.23924401],\n",
       "       [-0.36250387],\n",
       "       [-0.38497483],\n",
       "       [-0.46263185],\n",
       "       [-0.50063422],\n",
       "       [-0.46097957],\n",
       "       [-0.34036336],\n",
       "       [-0.39257531],\n",
       "       [-0.60307539],\n",
       "       [-0.42958631],\n",
       "       [-0.08161678],\n",
       "       [-0.21578167],\n",
       "       [-0.19661526],\n",
       "       [-0.07071176],\n",
       "       [ 0.24123813],\n",
       "       [ 0.77822815],\n",
       "       [ 1.12917177],\n",
       "       [ 1.36875193]])"
      ]
     },
     "execution_count": 218,
     "metadata": {},
     "output_type": "execute_result"
    }
   ],
   "source": [
    "train_dataset = processed_data[:training_data_len]\n",
    "train_dataset"
   ]
  },
  {
   "cell_type": "code",
   "execution_count": 242,
   "metadata": {},
   "outputs": [],
   "source": [
    "length = 45\n",
    "x_train = []\n",
    "y_train = []\n",
    "for i in range(length,len(train_dataset)):\n",
    "    x_train.append(train_dataset[i-length:i])\n",
    "    y_train.append(train_dataset[i])\n"
   ]
  },
  {
   "cell_type": "code",
   "execution_count": 243,
   "metadata": {},
   "outputs": [],
   "source": [
    "x_train,y_train = np.array(x_train),np.array(y_train)\n",
    "x_train = np.reshape(x_train,(x_train.shape[0],x_train.shape[1],1))"
   ]
  },
  {
   "cell_type": "code",
   "execution_count": 244,
   "metadata": {},
   "outputs": [],
   "source": [
    "from keras.models import Sequential\n",
    "model = Sequential()\n",
    "model.add(LSTM(50,return_sequences=True, input_shape=(x_train.shape[1],1)))\n",
    "model.add(LSTM(50,return_sequences =False))\n",
    "model.add(Dense(25))\n",
    "model.add(Dense(1))\n"
   ]
  },
  {
   "cell_type": "code",
   "execution_count": 249,
   "metadata": {},
   "outputs": [],
   "source": [
    "model.compile(optimizer='adam',loss='mean_squared_error')"
   ]
  },
  {
   "cell_type": "code",
   "execution_count": 250,
   "metadata": {},
   "outputs": [
    {
     "name": "stdout",
     "output_type": "stream",
     "text": [
      "Epoch 1/1\n",
      "2/2 [==============================] - 1s 532ms/step - loss: 1.0908\n"
     ]
    },
    {
     "data": {
      "text/plain": [
       "<keras.callbacks.callbacks.History at 0x14d9a9ed0>"
      ]
     },
     "execution_count": 250,
     "metadata": {},
     "output_type": "execute_result"
    }
   ],
   "source": [
    "model.fit(x_train,y_train,batch_size=1,epochs=1)"
   ]
  },
  {
   "cell_type": "code",
   "execution_count": 251,
   "metadata": {},
   "outputs": [],
   "source": [
    "test_data = scaled_data[training_data_len-length:]\n",
    "x_test = []\n",
    "y_test = dataset[training_data_len:]\n",
    "for i in range(length,len(test_data)):\n",
    "    x_test.append(test_data[i-length:i,0])"
   ]
  },
  {
   "cell_type": "code",
   "execution_count": 252,
   "metadata": {},
   "outputs": [],
   "source": [
    "x_test = np.array(x_test)\n",
    "x_test = np.reshape(x_test,(x_test.shape[0],x_test.shape[1],1))\n"
   ]
  },
  {
   "cell_type": "code",
   "execution_count": 253,
   "metadata": {},
   "outputs": [],
   "source": [
    "predictions = model.predict(x_test)\n",
    "predictions = scaler.inverse_transform(predictions)"
   ]
  },
  {
   "cell_type": "code",
   "execution_count": 254,
   "metadata": {},
   "outputs": [
    {
     "data": {
      "text/plain": [
       "[85.28601759412071]"
      ]
     },
     "execution_count": 254,
     "metadata": {},
     "output_type": "execute_result"
    }
   ],
   "source": [
    "rm = []\n",
    "rmse = np.sqrt(np.mean(predictions - y_test)**2)\n",
    "rm.append(rmse)\n",
    "rm"
   ]
  },
  {
   "cell_type": "code",
   "execution_count": 255,
   "metadata": {},
   "outputs": [
    {
     "data": {
      "image/png": "[encoded data removed]",
      "text/plain": [
       "<Figure size 432x288 with 1 Axes>"
      ]
     },
     "metadata": {},
     "output_type": "display_data"
    }
   ],
   "source": [
    "plt.plot(predictions)\n",
    "plt.show()"
   ]
  },
  {
   "cell_type": "code",
   "execution_count": 256,
   "metadata": {},
   "outputs": [
    {
     "name": "stderr",
     "output_type": "stream",
     "text": [
      "/Users/enakshi/opt/anaconda3/lib/python3.7/site-packages/ipykernel_launcher.py:3: SettingWithCopyWarning:\n",
      "\n",
      "\n",
      "A value is trying to be set on a copy of a slice from a DataFrame.\n",
      "Try using .loc[row_indexer,col_indexer] = value instead\n",
      "\n",
      "See the caveats in the documentation: http://pandas.pydata.org/pandas-docs/stable/user_guide/indexing.html#returning-a-view-versus-a-copy\n",
      "\n"
     ]
    },
    {
     "data": {
      "image/png": "[encoded data removed]",
      "text/plain": [
       "<Figure size 432x288 with 1 Axes>"
      ]
     },
     "metadata": {},
     "output_type": "display_data"
    }
   ],
   "source": [
    "train = df_Beef_Price[:training_data_len]\n",
    "valid = df_Beef_Price[training_data_len:]\n",
    "valid['Predictions'] = predictions\n",
    "plt.plot(train['Fuel_Price'],color = 'b')\n",
    "plt.plot(valid[['Fuel_Price','Predictions']])\n",
    "plt.xlabel('Price')\n",
    "plt.ylabel('Time')\n",
    "plt.title('Beef Price')\n",
    "plt.show()"
   ]
  },
  {
   "cell_type": "code",
   "execution_count": null,
   "metadata": {},
   "outputs": [],
   "source": [
    "df_forecast = web.DataReader('ETH-USD',data_source = 'yahoo', start='2012-01-01',end='2020-03-09')\n",
    "df_forecast_close = df_forecast.filter(['Close'])\n",
    "last_85_days = df_forecast_close[-85:].values\n",
    "scaled = scaler.transform(last_85_days)\n",
    "x_test = []\n",
    "x_test.append(scaled)\n",
    "x_test = np.array(x_test)\n",
    "x_test = np.reshape(x_test, (x_test.shape[0], x_test.shape[1],1))\n",
    "pred_price = model.predict(x_test)\n",
    "pred_price = scaler.inverse_transform(pred_price)\n",
    "print(pred_price)"
   ]
  },
  {
   "cell_type": "code",
   "execution_count": null,
   "metadata": {},
   "outputs": [],
   "source": []
  }
 ],
 "metadata": {
  "kernelspec": {
   "display_name": "Python 3",
   "language": "python",
   "name": "python3"
  },
  "language_info": {
   "codemirror_mode": {
    "name": "ipython",
    "version": 3
   },
   "file_extension": ".py",
   "mimetype": "text/x-python",
   "name": "python",
   "nbconvert_exporter": "python",
   "pygments_lexer": "ipython3",
   "version": "3.7.4"
  }
 },
 "nbformat": 4,
 "nbformat_minor": 2
}
